{
 "cells": [
  {
   "cell_type": "markdown",
   "id": "julian-anthony",
   "metadata": {},
   "source": [
    "# Administración de calendario\n",
    "\n",
    "### Entradas\n",
    "- [ ] Horario de inicio y de término\n",
    "- [ ] Horario de actividades\n",
    "    - [ ] Horario laboral\n",
    "    - [ ] De descanso (tiempo de amortiguación y comidas)\n",
    "- [ ] Horario laboral\n",
    "- [ ] Jerarquización de actividades\n",
    "- [ ] Definir cuánto tiempo se invertirá a las actividades de acuerdo a jerarquización o actividades a realizar al día\n",
    "- [ ] Definir el lapso de tiempo de trabajo y descansos\n",
    "- [ ] Días libres o días de trabajo\n",
    "### Salidas\n",
    "- Calendario terminado\n"
   ]
  },
  {
   "cell_type": "markdown",
   "id": "freelance-contemporary",
   "metadata": {},
   "source": [
    "#### Definir el tiempo del día a utilizar"
   ]
  },
  {
   "cell_type": "code",
   "execution_count": 1,
   "id": "corporate-block",
   "metadata": {},
   "outputs": [],
   "source": [
    "import numpy as np\n",
    "import pandas as pd\n",
    "import datetime\n",
    "\n",
    "# 24 hours\n",
    "\n",
    "def time_interval(start,end):\n",
    "    if start < end:\n",
    "        if start.minute < end.minute or start.minute == end.minute:\n",
    "            delta = datetime.time(end.hour - start.hour, end.minute - start.minute, end.second - start.second)\n",
    "        else:\n",
    "            delta = datetime.time(end.hour - start.hour - 1, 60 + end.minute - start.minute, end.second - start.second)\n",
    "    else: \n",
    "        print('Incorrect input')\n",
    "    return delta\n",
    "\n",
    "start_time = datetime.time(5,0,0) # 5:00:00\n",
    "end_time = datetime.time(22,0,0) # 22:00:00\n",
    "\n",
    "total_time = time_interval(start_time,end_time)\n"
   ]
  },
  {
   "cell_type": "markdown",
   "id": "norwegian-shopper",
   "metadata": {},
   "source": [
    "#### Definir activiades y jerarquizar en banderas\n",
    "- Bandera roja: Alta prioridad\n",
    "- Bandera amarilla: Prioridad media\n",
    "- Bandera verde: Prioridad baja"
   ]
  },
  {
   "cell_type": "code",
   "execution_count": 2,
   "id": "stupid-pacific",
   "metadata": {},
   "outputs": [],
   "source": [
    "activities = {'red_flag':['Curso excel',\n",
    "                         'Curso desarrollo de software',\n",
    "                         'Curso de análisis de datos',\n",
    "                         'Curso de inglés',\n",
    "                         'Realizar solicitudes de trabajo',\n",
    "                         'Curso de Robótica Industrial',\n",
    "                         'Curso de minado de datos',\n",
    "                         'Realizar análisis de datos de DCE'],\n",
    "             'yellow_flag':['Curso HTML',\n",
    "                           'Curso Marketing',\n",
    "                           'Curso CSS',\n",
    "                           'Curso Desarrollo de Proyectos'],\n",
    "             'green_flag':['Mejorar código SS',\n",
    "                          'Hacer diplomado de Big Data',\n",
    "                          'Estudiar gramática de inglés',\n",
    "                          'Estudio Autocad',\n",
    "                          'Estudio diseño gráfico',\n",
    "                          'Estudio análisis financiero']}\n",
    "\n",
    "# print(activities['red_flag'][0])\n",
    "\n",
    "# for i in activities['red_flag']:\n",
    "#     print(i)"
   ]
  },
  {
   "cell_type": "markdown",
   "id": "pregnant-plasma",
   "metadata": {},
   "source": [
    "#### Asignar tiempo de amortiguación y de comida\n",
    "##### Cosas por hacer\n",
    "- Modificar función para trabajar con minutos"
   ]
  },
  {
   "cell_type": "code",
   "execution_count": 3,
   "id": "cooperative-income",
   "metadata": {},
   "outputs": [
    {
     "name": "stdout",
     "output_type": "stream",
     "text": [
      "17:00:00\n",
      "10:00:00\n"
     ]
    }
   ],
   "source": [
    "def free_time(total_t,damping_t,damping_r,eating_t,eating_r):\n",
    "    free_t = datetime.time(total_t.hour - damping_r*damping_t.hour - eating_r*eating_t.hour)\n",
    "    return free_t\n",
    "    \n",
    "damping_time = datetime.time(2,0,0)\n",
    "damping_repeat = 2\n",
    "\n",
    "eating_time = datetime.time(1,0,0)\n",
    "eating_repeat = 3\n",
    "\n",
    "working_time = free_time(total_time,damping_time,damping_repeat,eating_time,eating_repeat)\n",
    "print(total_time)\n",
    "print(working_time)"
   ]
  },
  {
   "cell_type": "markdown",
   "id": "steady-scanning",
   "metadata": {},
   "source": [
    "#### Asignar cuánto tiempo se le asignará a cada actividad de acuerdo la jerarquización\n",
    "- Añadir para trabajar con horas\n",
    "- Añadir reacciones a errores"
   ]
  },
  {
   "cell_type": "code",
   "execution_count": 4,
   "id": "russian-philosophy",
   "metadata": {
    "scrolled": true
   },
   "outputs": [
    {
     "name": "stdout",
     "output_type": "stream",
     "text": [
      "10.0\n"
     ]
    }
   ],
   "source": [
    "def n_activities(working_t,focus_t,relax_t):\n",
    "    total_focus_t = datetime.time(0,focus_t.minute + relax_t.minute -1,0) # Se resta uno para evitar error cuando sume 60 minutos\n",
    "    return working_time.hour*60 / (total_focus_t.minute + 1) \n",
    "\n",
    "focus_time = datetime.time(0,50,0)\n",
    "relax_time = datetime.time(0,10,0)\n",
    "\n",
    "n_act = n_activities(working_time,focus_time,relax_time)\n",
    "\n",
    "print(n_act)"
   ]
  },
  {
   "cell_type": "markdown",
   "id": "continent-cincinnati",
   "metadata": {},
   "source": [
    "#### Definir los porcentajes del tiempo empleado en cada bandera"
   ]
  },
  {
   "cell_type": "code",
   "execution_count": 5,
   "id": "residential-florist",
   "metadata": {},
   "outputs": [
    {
     "name": "stdout",
     "output_type": "stream",
     "text": [
      "8\n",
      "2\n",
      "0\n"
     ]
    }
   ],
   "source": [
    "red_flag_per = 75\n",
    "yellow_flag_per = 20\n",
    "green_flag_per = 5\n",
    "\n",
    "red_flag_n_act = round(n_act*red_flag_per/100)\n",
    "yellow_flag_n_act = round(n_act*yellow_flag_per/100)\n",
    "green_flag_n_act = round(n_act*green_flag_per/100)\n",
    "\n",
    "print(red_flag_n_act)\n",
    "print(yellow_flag_n_act)\n",
    "print(green_flag_n_act)"
   ]
  },
  {
   "cell_type": "markdown",
   "id": "behavioral-queue",
   "metadata": {},
   "source": [
    "#### Determinar las actividades por semana\n",
    "- Se utilizan los días de la semana a laborar\n",
    "\n",
    "Posiblemente se pueda agregar el día de la semana en el que se empezará\n",
    "por defecto será lunes\n",
    "\n",
    "Tambíen especificar qué días no se van a laborar\n",
    "\n",
    "Corregir errores como solucionar cuando n_act de una bandera sea 0"
   ]
  },
  {
   "cell_type": "code",
   "execution_count": 6,
   "id": "nasty-montreal",
   "metadata": {},
   "outputs": [
    {
     "name": "stdout",
     "output_type": "stream",
     "text": [
      "                              Monday                            Tuesday  \\\n",
      "0       Curso de Robótica Industrial       Curso desarrollo de software   \n",
      "1  Realizar análisis de datos de DCE  Realizar análisis de datos de DCE   \n",
      "2         Curso de análisis de datos           Curso de minado de datos   \n",
      "3                        Curso excel                    Curso de inglés   \n",
      "4       Curso desarrollo de software                        Curso excel   \n",
      "5                    Curso de inglés         Curso de análisis de datos   \n",
      "6    Realizar solicitudes de trabajo       Curso de Robótica Industrial   \n",
      "7           Curso de minado de datos    Realizar solicitudes de trabajo   \n",
      "8                         Curso HTML                    Curso Marketing   \n",
      "9      Curso Desarrollo de Proyectos                          Curso CSS   \n",
      "\n",
      "                           Wednesday                           Thursday  \\\n",
      "0       Curso desarrollo de software                        Curso excel   \n",
      "1    Realizar solicitudes de trabajo    Realizar solicitudes de trabajo   \n",
      "2  Realizar análisis de datos de DCE  Realizar análisis de datos de DCE   \n",
      "3                        Curso excel         Curso de análisis de datos   \n",
      "4         Curso de análisis de datos                    Curso de inglés   \n",
      "5                    Curso de inglés       Curso desarrollo de software   \n",
      "6       Curso de Robótica Industrial           Curso de minado de datos   \n",
      "7           Curso de minado de datos       Curso de Robótica Industrial   \n",
      "8                         Curso HTML                         Curso HTML   \n",
      "9      Curso Desarrollo de Proyectos                          Curso CSS   \n",
      "\n",
      "                              Friday                           Saturday  \\\n",
      "0         Curso de análisis de datos    Realizar solicitudes de trabajo   \n",
      "1                    Curso de inglés       Curso desarrollo de software   \n",
      "2  Realizar análisis de datos de DCE       Curso de Robótica Industrial   \n",
      "3    Realizar solicitudes de trabajo           Curso de minado de datos   \n",
      "4       Curso de Robótica Industrial                        Curso excel   \n",
      "5                        Curso excel         Curso de análisis de datos   \n",
      "6           Curso de minado de datos  Realizar análisis de datos de DCE   \n",
      "7       Curso desarrollo de software                    Curso de inglés   \n",
      "8                         Curso HTML      Curso Desarrollo de Proyectos   \n",
      "9      Curso Desarrollo de Proyectos                         Curso HTML   \n",
      "\n",
      "                              Sunday  \n",
      "0       Curso de Robótica Industrial  \n",
      "1         Curso de análisis de datos  \n",
      "2    Realizar solicitudes de trabajo  \n",
      "3           Curso de minado de datos  \n",
      "4                    Curso de inglés  \n",
      "5  Realizar análisis de datos de DCE  \n",
      "6       Curso desarrollo de software  \n",
      "7                        Curso excel  \n",
      "8                          Curso CSS  \n",
      "9                    Curso Marketing  \n"
     ]
    }
   ],
   "source": [
    "import random\n",
    "\n",
    "def rand_act(act,n_red,n_yellow,n_green):\n",
    "    return random.sample(act['red_flag'],n_red) + random.sample(act['yellow_flag'],n_yellow) + random.sample(act['green_flag'],n_green)\n",
    "\n",
    "def rand_week():\n",
    "    week = {}\n",
    "    for i in range(working_days):\n",
    "        week[weekdays[i]] = rand_act(activities,red_flag_n_act,yellow_flag_n_act,green_flag_n_act)\n",
    "    return week\n",
    "\n",
    "\n",
    "flags = ['red_flag','yellow_flag','green_flag']\n",
    "weekdays = ['Monday','Tuesday','Wednesday','Thursday','Friday','Saturday','Sunday']\n",
    "working_days = len(weekdays)\n",
    "\n",
    "\n",
    "final_week = rand_week()\n",
    "\n",
    "df_week = pd.DataFrame.from_dict(final_week)\n",
    "\n",
    "print(df_week)\n"
   ]
  },
  {
   "cell_type": "markdown",
   "id": "extended-directive",
   "metadata": {},
   "source": [
    "#### Añadir el tiempo de descanso y alimentación"
   ]
  },
  {
   "cell_type": "code",
   "execution_count": 40,
   "id": "applicable-malaysia",
   "metadata": {},
   "outputs": [
    {
     "name": "stdout",
     "output_type": "stream",
     "text": [
      "['Lectura', 'Salir a caminar', 'Hacer ejercicio', 'Lavar trastes', 'Tomar un baño']\n"
     ]
    }
   ],
   "source": [
    "damping_time_start_1 = datetime.time(12,0,0)\n",
    "damping_time_start_2 = datetime.time(5,0,0)\n",
    "\n",
    "eating_time_start_1 = datetime.time(10,0,0)\n",
    "eating_time_start_2 = datetime.time(2,0,0)\n",
    "eating_time_start_3 = datetime.time(7,0,0)\n",
    "\n",
    "# Other activities\n",
    "\n",
    "\n",
    "other_activities = {'reading': ['Lectura'],\n",
    "                    'work_out': ['Salir a caminar','Hacer ejercicio'],\n",
    "                    'housework':['Lavar trastes'],\n",
    "                    'personal_cleanliness': ['Tomar un baño']\n",
    "                   }\n",
    "        \n",
    "x = [i[j] for i in other_activities.values() for j in range(len(i))]\n",
    "\n",
    "print(x)"
   ]
  },
  {
   "cell_type": "markdown",
   "id": "million-concentrate",
   "metadata": {},
   "source": [
    "#### Cambiar el index al df\n",
    "\n",
    "Hacer más general el ingreso de texto"
   ]
  },
  {
   "cell_type": "code",
   "execution_count": 74,
   "id": "graduate-ratio",
   "metadata": {},
   "outputs": [
    {
     "name": "stdout",
     "output_type": "stream",
     "text": [
      "60\n"
     ]
    },
    {
     "data": {
      "text/plain": [
       "['05:00 - 06:00',\n",
       " '06:00 - 07:00',\n",
       " '07:00 - 08:00',\n",
       " '08:00 - 09:00',\n",
       " '09:00 - 010:00',\n",
       " '010:00 - 011:00',\n",
       " '011:00 - 012:00',\n",
       " '012:00 - 013:00',\n",
       " '013:00 - 014:00']"
      ]
     },
     "execution_count": 74,
     "metadata": {},
     "output_type": "execute_result"
    }
   ],
   "source": [
    "time_index = []\n",
    "\n",
    "start = start_time.strftime('%H:%M')\n",
    "end = end_time.strftime('%H:%M')\n",
    "\n",
    "time_per_activity = 1\n",
    "\n",
    "count_hour_1 = start_time.hour + time_per_activity\n",
    "\n",
    "# Set time of other activities\n",
    "for i in range(len(x) - 1):\n",
    "    count_hour_2 = count_hour_1\n",
    "    \n",
    "    if count_hour_1 == start_time.hour + time_per_activity:\n",
    "        time_index.append(f'{start} - 0{count_hour_1}:00')\n",
    "    \n",
    "    count_hour_1 += time_per_activity\n",
    "    \n",
    "    time_index.append(f'0{count_hour_2}:00 - 0{count_hour_1}:00')\n",
    "\n",
    "pomodoro_time = focus_time.minute + relax_time.minute\n",
    "\n",
    "print(pomodoro_time)\n",
    "\n",
    "# Set time of the first focus lapse\n",
    "for i in range(damping_time_start_1.hour - count_hour_1):\n",
    "    count_hour_2 = count_hour_1\n",
    "    if pomodoro_time == 60:\n",
    "        time_index.append(f'0{count_hour_1}:00 - 0{count_hour_2 + 1}:00')\n",
    "        count_hour_1 += 1\n",
    "\n",
    "# Set time for the first damping lapse\n",
    "for i in range(damping_time.hour):\n",
    "    count_hour_2 = count_hour_1\n",
    "    time_index.append(f'0{count_hour_1}:00 - 0{count_hour_2 + 1}:00')\n",
    "    count_hour_1 += 1\n",
    "\n",
    "# Set time of the second focus lapse\n",
    "\n",
    "    \n",
    "# Set time of \n",
    "# damping_time = datetime.time(2,0,0)\n",
    "# damping_repeat = 2\n",
    "\n",
    "# eating_time = datetime.time(1,0,0)\n",
    "# eating_repeat = 3\n",
    "\n",
    "# focus_time = datetime.time(0,50,0)\n",
    "# relax_time = datetime.time(0,10,0)\n",
    "\n",
    "\n",
    "# damping_time_start_1 = datetime.time(12,0,0)\n",
    "# damping_time_start_2 = datetime.time(5,0,0)\n",
    "\n",
    "# eating_time_start_1 = datetime.time(10,0,0)\n",
    "# eating_time_start_2 = datetime.time(2,0,0)\n",
    "# eating_time_start_3 = datetime.time(7,0,0)\n",
    "\n",
    "time_index"
   ]
  },
  {
   "cell_type": "markdown",
   "id": "interracial-jesus",
   "metadata": {},
   "source": [
    "#### Exportar a CSV"
   ]
  },
  {
   "cell_type": "code",
   "execution_count": 8,
   "id": "successful-fourth",
   "metadata": {},
   "outputs": [],
   "source": [
    "df_week.to_csv(r'./week_calendar.csv')"
   ]
  },
  {
   "cell_type": "code",
   "execution_count": 9,
   "id": "caroline-objective",
   "metadata": {},
   "outputs": [
    {
     "data": {
      "text/plain": [
       "datetime.time(12, 0)"
      ]
     },
     "execution_count": 9,
     "metadata": {},
     "output_type": "execute_result"
    }
   ],
   "source": [
    "datetime.time(12,0,0)"
   ]
  }
 ],
 "metadata": {
  "kernelspec": {
   "display_name": "Python 3",
   "language": "python",
   "name": "python3"
  },
  "language_info": {
   "codemirror_mode": {
    "name": "ipython",
    "version": 3
   },
   "file_extension": ".py",
   "mimetype": "text/x-python",
   "name": "python",
   "nbconvert_exporter": "python",
   "pygments_lexer": "ipython3",
   "version": "3.8.6"
  }
 },
 "nbformat": 4,
 "nbformat_minor": 5
}
